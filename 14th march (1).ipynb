{
 "cells": [
  {
   "cell_type": "markdown",
   "id": "d22cc194-b202-4766-927b-e6da8ead39f1",
   "metadata": {},
   "source": [
    "Q1. Write a Python function that takes in two arrays of data and calculates the F-value for a variance ratio\n",
    "test. The function should return the F-value and the corresponding p-value for the test."
   ]
  },
  {
   "cell_type": "code",
   "execution_count": 1,
   "id": "4854e87d-d2ed-4af9-9e3f-0d54fe4da674",
   "metadata": {},
   "outputs": [
    {
     "data": {
      "text/plain": [
       "('the f_test and correspondin p_value are : ',\n",
       " 4.387122002085506,\n",
       " 3.178893104458269)"
      ]
     },
     "execution_count": 1,
     "metadata": {},
     "output_type": "execute_result"
    }
   ],
   "source": [
    "x = [18, 19, 22, 25, 27, 28, 41, 45, 51, 55]\n",
    "y = [14, 15, 15, 17, 18, 22, 25, 25, 27, 34]\n",
    "import numpy as np\n",
    "import scipy.stats as stat\n",
    "def f_test(x, y):\n",
    "    x = np.array(x)\n",
    "    y = np.array(y)\n",
    "    f_test = np.var(x)/np.var(y) \n",
    "    dof1  = len(x) -1\n",
    "    dof2 = len(y)-1 \n",
    "    significance_value = .05\n",
    "    p_value =  stat.f.ppf(q = 1- significance_value, dfn = dof1,dfd = dof2)\n",
    "    return \"the f_test and correspondin p_value are : \", f_test, p_value\n",
    "\n",
    "f_test(x, y)\n",
    "\n"
   ]
  },
  {
   "cell_type": "markdown",
   "id": "72fa4226-eefe-483a-bf2f-5493a58f2ed6",
   "metadata": {},
   "source": [
    "Q2. Given a significance level of 0.05 and the degrees of freedom for the numerator and denominator of an\n",
    "F-distribution, write a Python function that returns the critical F-value for a two-tailed test."
   ]
  },
  {
   "cell_type": "code",
   "execution_count": 2,
   "id": "c40ce3a8-5793-4ab8-8b94-38c9f718d008",
   "metadata": {},
   "outputs": [],
   "source": [
    "x = [18, 19, 22, 25, 27, 28, 41, 45, 51, 55]\n",
    "y = [14, 15, 15, 17, 18, 22, 25, 25, 27, 34]\n",
    "import numpy as np\n",
    "import scipy.stats as stat\n",
    "def f_test(x, y):\n",
    "    x = np.array(x)\n",
    "    y = np.array(y)\n",
    "    dof1  = len(x) -1\n",
    "    dof2 = len(y)-1 \n",
    "    significance_value = .05\n",
    "    critical_value =  stat.f.ppf(q = 1- significance_value, dfn = dof1,dfd = dof2)\n",
    "    return \"the critical value is : \", critical_value"
   ]
  },
  {
   "cell_type": "code",
   "execution_count": 3,
   "id": "3c57904c-dee4-49e9-a7a7-4bc68e161650",
   "metadata": {},
   "outputs": [
    {
     "data": {
      "text/plain": [
       "('the critical value is : ', 3.178893104458269)"
      ]
     },
     "execution_count": 3,
     "metadata": {},
     "output_type": "execute_result"
    }
   ],
   "source": [
    "f_test(x,y)"
   ]
  },
  {
   "cell_type": "markdown",
   "id": "d53fd626-c25d-41e7-a7df-2ceb112d9ad7",
   "metadata": {},
   "source": [
    "Q3. Write a Python program that generates random samples from two normal distributions with known\n",
    "\n",
    "variances and uses an F-test to determine if the variances are equal. The program should output the F-\n",
    "value, degrees of freedom, and p-value for the test."
   ]
  },
  {
   "cell_type": "code",
   "execution_count": 5,
   "id": "c93fe4da-7543-4603-9ca1-221ebef50377",
   "metadata": {},
   "outputs": [],
   "source": [
    "arr1 = np.random.randn(3,4)\n",
    "arr2= np.random.randn(3,4)"
   ]
  },
  {
   "cell_type": "code",
   "execution_count": 9,
   "id": "ee84e33d-e720-4adb-8846-86d00d43b241",
   "metadata": {},
   "outputs": [],
   "source": [
    "f_value = np.var(arr1)/np.var(arr2)\n",
    "degree_of_freedom_of_arr1 = len(arr1)-1\n",
    "degree_of_freedom_of_arr2 = len(arr2)-1\n",
    "significance_value = .05\n",
    "p_value = stat.f.ppf(q = 1- significance_value, dfn = degree_of_freedom_of_arr1,dfd = degree_of_freedom_of_arr2)"
   ]
  },
  {
   "cell_type": "code",
   "execution_count": 10,
   "id": "66d5a9c8-e45c-4129-b51c-e41c91eef697",
   "metadata": {},
   "outputs": [
    {
     "data": {
      "text/plain": [
       "0.6509354767553418"
      ]
     },
     "execution_count": 10,
     "metadata": {},
     "output_type": "execute_result"
    }
   ],
   "source": [
    "f_value"
   ]
  },
  {
   "cell_type": "code",
   "execution_count": 11,
   "id": "b8f11651-1ba6-4945-8fe1-ff4925eaeb61",
   "metadata": {},
   "outputs": [],
   "source": [
    "#as f_test value is not equal to 1 , i.e. the variances of 2 arrays are not same.moreprecisely array 2 has larger variance. "
   ]
  },
  {
   "cell_type": "code",
   "execution_count": 12,
   "id": "9333687c-6179-4a10-aeb7-8b385af1756b",
   "metadata": {},
   "outputs": [
    {
     "data": {
      "text/plain": [
       "(2, 2)"
      ]
     },
     "execution_count": 12,
     "metadata": {},
     "output_type": "execute_result"
    }
   ],
   "source": [
    "degree_of_freedom_of_arr1 , degree_of_freedom_of_arr2"
   ]
  },
  {
   "cell_type": "code",
   "execution_count": 13,
   "id": "7d7e02a6-5e28-43ac-a402-265e3fc11db0",
   "metadata": {},
   "outputs": [
    {
     "data": {
      "text/plain": [
       "18.999999999999982"
      ]
     },
     "execution_count": 13,
     "metadata": {},
     "output_type": "execute_result"
    }
   ],
   "source": [
    "p_value"
   ]
  },
  {
   "cell_type": "markdown",
   "id": "d2f836bf-cec0-4161-9973-953c79fcd8a1",
   "metadata": {},
   "source": [
    "Q4.The variances of two populations are known to be 10 and 15. A sample of 12 observations is taken from\n",
    "each population. Conduct an F-test at the 5% significance level to determine if the variances are\n",
    "significantly different."
   ]
  },
  {
   "cell_type": "code",
   "execution_count": 14,
   "id": "bd17528f-4bf7-4080-8eb1-5b85ec98cc6c",
   "metadata": {},
   "outputs": [],
   "source": [
    "var1 = 10\n",
    "var2 = 15\n",
    "n = 12\n",
    "significance_value = .05\n",
    "f_value = var1/var2\n",
    "dof1 = 12-1\n",
    "dof2 = 12-1\n",
    "p_value = stat.f.ppf(q = 1 - significance_value,dfn = dof1,dfd = dof2 )"
   ]
  },
  {
   "cell_type": "code",
   "execution_count": 19,
   "id": "49e7df4b-6986-412b-a11e-254e29aad7ba",
   "metadata": {},
   "outputs": [
    {
     "name": "stdout",
     "output_type": "stream",
     "text": [
      "We fail to reject null hypothesis\n",
      " i.e. the variance are not significantly different\n"
     ]
    }
   ],
   "source": [
    "if f_value>p_value:\n",
    "    print(\"Reject null hypotheis\")\n",
    "else:\n",
    "    print(\"We fail to reject null hypothesis\\n i.e. the variance are not significantly different\")"
   ]
  },
  {
   "cell_type": "markdown",
   "id": "8eb60c61-8cdf-44ff-9615-f2e18bcdc4e7",
   "metadata": {},
   "source": [
    "Q5. A manufacturer claims that the variance of the diameter of a certain product is 0.005. A sample of 25\n",
    "products is taken, and the sample variance is found to be 0.006. Conduct an F-test at the 1% significance\n",
    "level to determine if the claim is justified."
   ]
  },
  {
   "cell_type": "code",
   "execution_count": 22,
   "id": "2ff95487-925e-4331-96d1-461adcf71fb5",
   "metadata": {},
   "outputs": [],
   "source": [
    "var1 = .005\n",
    "n = 25\n",
    "samp_var = 0.006\n",
    "significance_value = .01\n",
    "f_value = var1/samp_var\n",
    "p_value = stat.f.ppf(q = 1 - significance_value , dfn =25-1, dfd = 24)"
   ]
  },
  {
   "cell_type": "code",
   "execution_count": 24,
   "id": "c3621d55-0ece-43f5-86f7-f2cb75513d92",
   "metadata": {},
   "outputs": [
    {
     "name": "stdout",
     "output_type": "stream",
     "text": [
      "We fail to reject null hypothesis\n",
      " i.e. the claim is not justified\n"
     ]
    }
   ],
   "source": [
    "if f_value>p_value:\n",
    "    print(\"Reject null hypotheis\")\n",
    "else:\n",
    "    print(\"We fail to reject null hypothesis\\n i.e. the claim is not justified\")"
   ]
  },
  {
   "cell_type": "markdown",
   "id": "717ca651-f4cb-4d51-9edf-1aa8f1a240d8",
   "metadata": {},
   "source": [
    "Q6. Write a Python function that takes in the degrees of freedom for the numerator and denominator of an\n",
    "F-distribution and calculates the mean and variance of the distribution. The function should return the\n",
    "mean and variance as a tuple."
   ]
  },
  {
   "cell_type": "code",
   "execution_count": 72,
   "id": "85cc0489-cbf4-429a-8706-ba6f06b48379",
   "metadata": {},
   "outputs": [],
   "source": [
    "def f_test(df1,df2):\n",
    "    lst1 = []\n",
    "    print(\"The elements of 1st array\")\n",
    "    for i in range(0, df1+1):\n",
    "        ele1 = int(input())\n",
    "        lst1.append(ele1)\n",
    "    print(lst1)\n",
    "    lst2 = []    \n",
    "    print(\"The elements of 2nd array \")\n",
    "    for i in range(0, df2+1):\n",
    "        ele2 = int(input())\n",
    "        lst2.append(ele2) \n",
    "    print(lst2)\n",
    "    print(\"The mean of 1st array and 2nd array and the corresponding variance are :\")\n",
    "    tuple1 = ()\n",
    "    tuple1_append = tuple1 + (np.mean(lst1), np.mean(lst2), np.var(lst1), np.var(lst2))\n",
    "    \n",
    "    print(tuple1_append)"
   ]
  },
  {
   "cell_type": "code",
   "execution_count": 73,
   "id": "e0f4c257-3fd6-4edd-ae60-8c66c1ad65f8",
   "metadata": {},
   "outputs": [
    {
     "name": "stdout",
     "output_type": "stream",
     "text": [
      "The elements of 1st array\n"
     ]
    },
    {
     "name": "stdin",
     "output_type": "stream",
     "text": [
      " 40\n",
      " 30\n",
      " 38\n",
      " 41\n",
      " 38\n",
      " 35\n"
     ]
    },
    {
     "name": "stdout",
     "output_type": "stream",
     "text": [
      "[40, 30, 38, 41, 38, 35]\n",
      "The elements of 2nd array \n"
     ]
    },
    {
     "name": "stdin",
     "output_type": "stream",
     "text": [
      " 39\n",
      " 38\n",
      " 41\n",
      " 33\n",
      " 32\n",
      " 39\n",
      " 40\n",
      " 34\n"
     ]
    },
    {
     "name": "stdout",
     "output_type": "stream",
     "text": [
      "[39, 38, 41, 33, 32, 39, 40, 34]\n",
      "The mean of 1st array and 2nd array and the corresponding variance are :\n",
      "(37.0, 37.0, 13.333333333333334, 10.5)\n"
     ]
    }
   ],
   "source": [
    "f_test(5,7)"
   ]
  },
  {
   "cell_type": "markdown",
   "id": "1c960849-4c57-4a3f-b6df-20264577b0ab",
   "metadata": {},
   "source": [
    "Q7. A random sample of 10 measurements is taken from a normal population with unknown variance. The\n",
    "sample variance is found to be 25. Another random sample of 15 measurements is taken from another\n",
    "normal population with unknown variance, and the sample variance is found to be 20. Conduct an F-test\n",
    "at the 10% significance level to determine if the variances are significantly different."
   ]
  },
  {
   "cell_type": "code",
   "execution_count": 48,
   "id": "840cc2bd-77fa-459c-a39c-b0e8e0f5af8b",
   "metadata": {},
   "outputs": [],
   "source": [
    "n1 =10\n",
    "samp_var1 = 25\n",
    "n2 = 15\n",
    "samp_var2 = 20\n",
    "significance_vale = .10"
   ]
  },
  {
   "cell_type": "code",
   "execution_count": 49,
   "id": "315a6bc2-1547-4604-a660-b10f3963034f",
   "metadata": {},
   "outputs": [],
   "source": [
    "f_value = samp_var1/samp_var2"
   ]
  },
  {
   "cell_type": "code",
   "execution_count": 50,
   "id": "78546e99-fef3-43db-aa2c-19e49c5a1bcd",
   "metadata": {},
   "outputs": [],
   "source": [
    "critical_value = stat.f.ppf(q = 1 - significance_vale, dfn = n1-1 , dfd = n2-1)"
   ]
  },
  {
   "cell_type": "code",
   "execution_count": 51,
   "id": "cbec2df8-cad6-4fd9-9765-c95c3e71375f",
   "metadata": {},
   "outputs": [
    {
     "data": {
      "text/plain": [
       "1.25"
      ]
     },
     "execution_count": 51,
     "metadata": {},
     "output_type": "execute_result"
    }
   ],
   "source": [
    "f_value"
   ]
  },
  {
   "cell_type": "code",
   "execution_count": 52,
   "id": "c95b187d-1df7-4393-abc2-8e74001d6b26",
   "metadata": {},
   "outputs": [
    {
     "data": {
      "text/plain": [
       "2.121954566976902"
      ]
     },
     "execution_count": 52,
     "metadata": {},
     "output_type": "execute_result"
    }
   ],
   "source": [
    "critical_value"
   ]
  },
  {
   "cell_type": "code",
   "execution_count": 53,
   "id": "2714984f-b0e4-4ca4-98c3-66b89c7fab3d",
   "metadata": {},
   "outputs": [
    {
     "name": "stdout",
     "output_type": "stream",
     "text": [
      "We will fail to reject the null hypothesis\n",
      "i.e. variance are not significantly changed\n"
     ]
    }
   ],
   "source": [
    "if f_value > critical_value:\n",
    "    print(\"we will reject the null hypothesis\")\n",
    "else:\n",
    "    print(\"We will fail to reject the null hypothesis\\ni.e. variance are not significantly changed\")\n",
    "    "
   ]
  },
  {
   "cell_type": "markdown",
   "id": "9357f864-7a84-4d2a-844b-4e778d00c2f4",
   "metadata": {},
   "source": [
    "Q8. The following data represent the waiting times in minutes at two different restaurants on a Saturday\n",
    "night: Restaurant A: 24, 25, 28, 23, 22, 20, 27; Restaurant B: 31, 33, 35, 30, 32, 36. Conduct an F-test at the 5%\n",
    "significance level to determine if the variances are significantly different."
   ]
  },
  {
   "cell_type": "code",
   "execution_count": 54,
   "id": "77de1f64-2844-4310-a02c-6e0acc7ca1fa",
   "metadata": {},
   "outputs": [],
   "source": [
    "resturant_a = [24,25,28,23,22,20,27]\n",
    "resturant_b = [31,33,35,30,32,36]\n",
    "significance_value = .05"
   ]
  },
  {
   "cell_type": "code",
   "execution_count": 55,
   "id": "2157233c-f097-4cf9-af30-34f3c2284820",
   "metadata": {},
   "outputs": [],
   "source": [
    "f_value = np.var(resturant_a)/np.var(resturant_b)"
   ]
  },
  {
   "cell_type": "code",
   "execution_count": 56,
   "id": "cad69cf1-fcdd-4618-a1d3-3ffe4fd3ebc7",
   "metadata": {},
   "outputs": [],
   "source": [
    "critical_value = stat.f.ppf(q = 1 - significance_value , dfn = len(resturant_a)-1, dfd = len(resturant_b)-1)"
   ]
  },
  {
   "cell_type": "code",
   "execution_count": 57,
   "id": "aded3c9e-2a6b-436a-9e61-f793cf05164c",
   "metadata": {},
   "outputs": [
    {
     "name": "stdout",
     "output_type": "stream",
     "text": [
      "We fail to reject the null hypothesis\n",
      "i.e.there are no difference \n"
     ]
    }
   ],
   "source": [
    "if f_value >critical_value:\n",
    "    print(\"we reject the null hypothesis \\ni.e. there are significante difference\")\n",
    "else:\n",
    "    print(\"We fail to reject the null hypothesis\\ni.e.there are no difference \")"
   ]
  },
  {
   "cell_type": "markdown",
   "id": "b92537ee-f22e-4aa5-975b-efc5a33361b6",
   "metadata": {},
   "source": [
    "Q9. The following data represent the test scores of two groups of students: Group A: 80, 85, 90, 92, 87, 83;\n",
    "Group B: 75, 78, 82, 79, 81, 84. Conduct an F-test at the 1% significance level to determine if the variances\n",
    "are significantly different."
   ]
  },
  {
   "cell_type": "code",
   "execution_count": 60,
   "id": "b0c50e17-f3bd-48c8-9457-12ba908121f3",
   "metadata": {},
   "outputs": [],
   "source": [
    "group_a = [80,85,90,92,87,83]\n",
    "group_b = [75,78,82,79,81,84]\n",
    "significance_value = .01"
   ]
  },
  {
   "cell_type": "code",
   "execution_count": 61,
   "id": "6366d0db-a0ad-498f-b8b3-e417b085f935",
   "metadata": {},
   "outputs": [],
   "source": [
    "f_value = np.var(group_a)/np.var(group_b)"
   ]
  },
  {
   "cell_type": "code",
   "execution_count": 62,
   "id": "20617519-e84d-4cad-8b0c-3323db4b1894",
   "metadata": {},
   "outputs": [],
   "source": [
    "critical_value = stat.f.ppf(q = 1 - significance_value , dfn = len(group_a)-1, dfd = len(group_b)-1)"
   ]
  },
  {
   "cell_type": "code",
   "execution_count": 63,
   "id": "d51768ea-4f03-466d-8cee-9677644f3f3e",
   "metadata": {},
   "outputs": [
    {
     "name": "stdout",
     "output_type": "stream",
     "text": [
      "We fail to reject the null hypothesis\n",
      "i.e.there are no difference \n"
     ]
    }
   ],
   "source": [
    "if f_value >critical_value:\n",
    "    print(\"we reject the null hypothesis \\ni.e. there are significante difference\")\n",
    "else:\n",
    "    print(\"We fail to reject the null hypothesis\\ni.e.there are no difference \")"
   ]
  },
  {
   "cell_type": "code",
   "execution_count": null,
   "id": "71ef4845-82cc-4e1e-a9f7-b7368ad18460",
   "metadata": {},
   "outputs": [],
   "source": []
  },
  {
   "cell_type": "code",
   "execution_count": null,
   "id": "8272ce67-6b02-48d2-aca5-88508d905bab",
   "metadata": {},
   "outputs": [],
   "source": []
  },
  {
   "cell_type": "code",
   "execution_count": null,
   "id": "2105434b-b3ee-463c-9139-4f2b9db12329",
   "metadata": {},
   "outputs": [],
   "source": []
  },
  {
   "cell_type": "code",
   "execution_count": null,
   "id": "1e19805a-68d3-4c59-adb2-4b84eee9a530",
   "metadata": {},
   "outputs": [],
   "source": []
  },
  {
   "cell_type": "code",
   "execution_count": null,
   "id": "9177afe0-f5f8-4e2b-bd5d-b7e9f1e8c9d0",
   "metadata": {},
   "outputs": [],
   "source": [
    "\n"
   ]
  }
 ],
 "metadata": {
  "kernelspec": {
   "display_name": "Python 3 (ipykernel)",
   "language": "python",
   "name": "python3"
  },
  "language_info": {
   "codemirror_mode": {
    "name": "ipython",
    "version": 3
   },
   "file_extension": ".py",
   "mimetype": "text/x-python",
   "name": "python",
   "nbconvert_exporter": "python",
   "pygments_lexer": "ipython3",
   "version": "3.10.8"
  }
 },
 "nbformat": 4,
 "nbformat_minor": 5
}
